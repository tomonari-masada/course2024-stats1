{
  "nbformat": 4,
  "nbformat_minor": 0,
  "metadata": {
    "colab": {
      "provenance": [],
      "authorship_tag": "ABX9TyMCrjavAJ07eyWa9u89mtjl",
      "include_colab_link": true
    },
    "kernelspec": {
      "name": "python3",
      "display_name": "Python 3"
    },
    "language_info": {
      "name": "python"
    }
  },
  "cells": [
    {
      "cell_type": "markdown",
      "metadata": {
        "id": "view-in-github",
        "colab_type": "text"
      },
      "source": [
        "<a href=\"https://colab.research.google.com/github/tomonari-masada/course2024-stats1/blob/main/normalgamma_Rosenthal_and_Jacobson_1968.ipynb\" target=\"_parent\"><img src=\"https://colab.research.google.com/assets/colab-badge.svg\" alt=\"Open In Colab\"/></a>"
      ]
    },
    {
      "cell_type": "markdown",
      "source": [
        "# Rosenthal and Jacobson (1968) の実験の結果を分析\n",
        "\n",
        "* データは、原論文のものではなく、それに似せて作ったもの。\n",
        " * [STA 360/602: Bayesian Methods and Modern Statistics @ Duke University](http://www2.stat.duke.edu/~rcs46/bayes17.html)の[Module 4](http://www2.stat.duke.edu/~rcs46/modern_bayes17/lecturesModernBayes17/lecture-4/04-normal-gamma.pdf)より拝借したデータ。\n"
      ],
      "metadata": {
        "id": "X3VSVstvWLQk"
      }
    },
    {
      "cell_type": "markdown",
      "source": [
        "> Do a teacher’s expectations influence student achievement? In a\n",
        "famous study, Rosenthal and Jacobson (1968) performed an\n",
        "experiment in a California elementary school to try to answer this\n",
        "question. At the beginning of the year, all students were given an\n",
        "IQ test. For each class, the researchers randomly selected around\n",
        "20% of the students, and told the teacher that these students were\n",
        "“spurters” that could be expected to perform particularly well that\n",
        "year. (This was not based on the test—the spurters were randomly\n",
        "chosen.) At the end of the year, all students were given another IQ\n",
        "test.\n",
        "\n"
      ],
      "metadata": {
        "id": "ldPEtjTyxLLq"
      }
    },
    {
      "cell_type": "markdown",
      "source": [
        "## 問題設定\n",
        "* 教師が期待をかけるか否かで学生の学修に影響があるかを知りたい。\n",
        "* このことを、$P(\\mu_s > \\mu_c | \\mathbf{x}_s, \\mathbf{x}_c)$を調べることで、明らかにする。\n",
        " * $\\mathbf{x}_s$: spurters（期待をかけられた学生たち）のIQ変化量データ群\n",
        " * $\\mathbf{x}_c$: controls（その他の学生たち）のIQ変化量データ群\n",
        " * $\\mu_s$: spurtersのIQ変化量の平均値\n",
        " * $\\mu_c$: controlsのIQ変化量の平均値"
      ],
      "metadata": {
        "id": "GpcYodYT9cXc"
      }
    },
    {
      "cell_type": "code",
      "execution_count": null,
      "metadata": {
        "id": "IDZc6xpwVxZ8"
      },
      "outputs": [],
      "source": [
        "import matplotlib.pyplot as plt\n",
        "import seaborn as sns\n",
        "import numpy as np"
      ]
    },
    {
      "cell_type": "markdown",
      "source": [
        "## モデリングの方針\n",
        "* IQスコア変化量は、正規分布に従うと仮定する。\n",
        "* 事前分布としては、正規ガンマ分布を用いる。"
      ],
      "metadata": {
        "id": "1IkQTIKeAfQG"
      }
    },
    {
      "cell_type": "markdown",
      "source": [
        "## データ例\n",
        "* spurtersとcontrolsのIQスコアの変化量"
      ],
      "metadata": {
        "id": "FwTQWr0cw5Rx"
      }
    },
    {
      "cell_type": "code",
      "source": [
        "x_s = [18, 40, 15, 17, 20, 44, 38]\n",
        "x_c = [-4, 0, -19, 24, 19, 10, 5, 10,\n",
        "       29, 13, -9, -8, 20, -1, 12, 21,\n",
        "       -7, 14, 13, 20, 11, 16, 15, 27,\n",
        "       23, 36, -33, 34, 13, 11, -19, 21,\n",
        "       6, 25, 30,22, -28, 15, 26, -1, -2,\n",
        "       43, 23, 22, 25, 16, 10, 29]"
      ],
      "metadata": {
        "id": "vr5Mbxe_Vyyb"
      },
      "execution_count": null,
      "outputs": []
    },
    {
      "cell_type": "code",
      "source": [
        "x_s = np.array(x_s)\n",
        "x_c = np.array(x_c)\n",
        "N_s = len(x_s)\n",
        "N_c = len(x_c)"
      ],
      "metadata": {
        "id": "XWgHm5uK0y6o"
      },
      "execution_count": null,
      "outputs": []
    },
    {
      "cell_type": "code",
      "source": [
        "ax = sns.histplot({'spurters':x_s, 'controls':x_c}, binwidth=2)\n",
        "ax.set_title('data distribution');"
      ],
      "metadata": {
        "id": "TNoN_se-VtvI"
      },
      "execution_count": null,
      "outputs": []
    },
    {
      "cell_type": "markdown",
      "source": [
        "## 参考: Welchのt検定\n",
        "* https://bellcurve.jp/statistics/course/9936.html\n",
        "* https://docs.scipy.org/doc/scipy/reference/generated/scipy.stats.ttest_ind.html#scipy.stats.ttest_ind\n",
        "  * この`scipy.stats.ttest_ind`では、df（自由度）は以下のように計算している。\n",
        "  * `df = (vn1 + vn2) ** 2 / (vn1**2 / (n1 - 1) + vn2**2 / (n2 - 1))`\n",
        "  * ただし `vn1 = v1 / n1`、`vn2 = v2 / n2`\n"
      ],
      "metadata": {
        "id": "0VQaNeXJdjEy"
      }
    },
    {
      "cell_type": "code",
      "source": [
        "from scipy import stats\n",
        "\n",
        "t_score = stats.ttest_ind(x_s, x_c, equal_var=False, alternative='greater')\n",
        "print(t_score)"
      ],
      "metadata": {
        "id": "GWEbzRRGdmB5"
      },
      "execution_count": null,
      "outputs": []
    },
    {
      "cell_type": "markdown",
      "source": [
        "## 事前分布のパラメータの設定"
      ],
      "metadata": {
        "id": "SSihbrFjx28G"
      }
    },
    {
      "cell_type": "markdown",
      "source": [
        "* $\\alpha$は、事前分布がデータ1個分の情報を持つように設定されている。\n",
        " * 事後分布のshapeパラメータが$\\alpha + N / 2$となるため。\n",
        "* $\\beta$は、IQスコアの変化量の標準偏差$\\sqrt{\\beta / \\alpha}$が10ぐらいになるように設定されている。\n",
        " * ガンマ分布$\\mbox{Gamma}(\\alpha, \\beta)$に従う確率変数の値の平均は$\\alpha / \\beta$。\n",
        " * ガンマ分布は、ここでは、IQスコアの変化量が従う正規分布の精度（＝分散の逆数）が従う分布として使われている。"
      ],
      "metadata": {
        "id": "NRNIObzoy0hL"
      }
    },
    {
      "cell_type": "code",
      "source": [
        "alpha = 0.5\n",
        "beta = 100 * alpha"
      ],
      "metadata": {
        "id": "q3v1ogPBX3LB"
      },
      "execution_count": null,
      "outputs": []
    },
    {
      "cell_type": "markdown",
      "source": [
        "* $\\lambda_0$は、どう設定していいか分からないので$1$にする。\n",
        "* $\\mu_0$は、spurtersとcontrolsを合わせたデータ全体の平均値に設定する。"
      ],
      "metadata": {
        "id": "KyJ67MYd-tds"
      }
    },
    {
      "cell_type": "code",
      "source": [
        "lambda_0 = 1.0\n",
        "mu_0 = (x_s.sum() + x_c.sum()) / (N_s + N_c)\n",
        "print(mu_0)"
      ],
      "metadata": {
        "id": "kzOt7CirXJqd"
      },
      "execution_count": null,
      "outputs": []
    },
    {
      "cell_type": "markdown",
      "source": [
        "## 事後分布のパラメータの計算\n",
        "* データ集合が与えられれば、この計算は実行できる。"
      ],
      "metadata": {
        "id": "dtC4MTlyzekg"
      }
    },
    {
      "cell_type": "code",
      "source": [
        "mu_s = (lambda_0 * mu_0 + sum(x_s)) / (lambda_0 + N_s)\n",
        "mu_c = (lambda_0 * mu_0 + sum(x_c)) / (lambda_0 + N_c)\n",
        "lambda_s = lambda_0 + N_s\n",
        "lambda_c = lambda_0 + N_c\n",
        "alpha_s = alpha + N_s / 2\n",
        "alpha_c = alpha + N_c / 2\n",
        "beta_s = beta + (((x_s - x_s.mean()) ** 2).sum() + lambda_0 * N_s * (x_s.mean() - mu_0) ** 2 / (lambda_0 + N_s)) / 2\n",
        "beta_c = beta + (((x_c - x_c.mean()) ** 2).sum() + lambda_0 * N_c * (x_c.mean() - mu_0) ** 2 / (lambda_0 + N_c)) / 2"
      ],
      "metadata": {
        "id": "3vpbw_H0zeB5"
      },
      "execution_count": null,
      "outputs": []
    },
    {
      "cell_type": "markdown",
      "source": [
        "## 事後分布からサンプリング\n",
        "* 正規ガンマ分布$\\mu, \\tau \\sim \\mbox{NormalGamma}(\\mu_0, \\lambda_0, \\alpha, \\beta)$からサンプリングするには・・・\n",
        "* まず、ガンマ分布$\\tau \\sim \\mbox{Gamma}(\\alpha, \\beta)$から$\\tau$をサンプリングし、\n",
        "* 次に、正規分布$\\mu \\sim N(\\mu_0, 1 / (\\lambda_0\\tau))$から$\\mu$をサンプリングすればよい。"
      ],
      "metadata": {
        "id": "QmbLGt-O3c5y"
      }
    },
    {
      "cell_type": "code",
      "source": [
        "from scipy.stats import gamma"
      ],
      "metadata": {
        "id": "Uru3xMzH3qRU"
      },
      "execution_count": null,
      "outputs": []
    },
    {
      "cell_type": "code",
      "source": [
        "rv_s = gamma(alpha_s, scale=1/beta_s)\n",
        "rv_c = gamma(alpha_c, scale=1/beta_c)"
      ],
      "metadata": {
        "id": "tod2MN3D42gN"
      },
      "execution_count": null,
      "outputs": []
    },
    {
      "cell_type": "code",
      "source": [
        "n_samples = 1000\n",
        "\n",
        "tau_s_samples = rv_s.rvs(n_samples)\n",
        "mean_s_samples = np.random.randn(n_samples) / np.sqrt(lambda_s * tau_s_samples) + mu_s\n",
        "tau_c_samples = rv_c.rvs(n_samples)\n",
        "mean_c_samples = np.random.randn(n_samples) / np.sqrt(lambda_c * tau_c_samples) + mu_c"
      ],
      "metadata": {
        "id": "uWcKeS4k5kG6"
      },
      "execution_count": null,
      "outputs": []
    },
    {
      "cell_type": "markdown",
      "source": [
        "* 平均パラメータの分布のヒストグラムを描く\n",
        " * このヒストグラムが、平均パラメータが従う事後分布を近似しているはず。"
      ],
      "metadata": {
        "id": "39o_Qem_UdHi"
      }
    },
    {
      "cell_type": "code",
      "source": [
        "ax = sns.histplot({'spurters':mean_s_samples, 'controls':mean_c_samples})\n",
        "ax.set_title('posterior distribution of mean parameter');"
      ],
      "metadata": {
        "id": "FTryalqZ75PX"
      },
      "execution_count": null,
      "outputs": []
    },
    {
      "cell_type": "markdown",
      "source": [
        "* 標準偏差パラメータの分布のヒストグラムを描く"
      ],
      "metadata": {
        "id": "NXqdNiN1Uld6"
      }
    },
    {
      "cell_type": "code",
      "source": [
        "sigma_s_samples = np.sqrt(1 / tau_s_samples)\n",
        "sigma_c_samples = np.sqrt(1 / tau_c_samples)\n",
        "ax = sns.histplot({'spurters':sigma_s_samples, 'controls':sigma_c_samples})\n",
        "ax.set_title('posterior distribution of stdev parameter');"
      ],
      "metadata": {
        "id": "LMaTGlHTUAT0"
      },
      "execution_count": null,
      "outputs": []
    },
    {
      "cell_type": "markdown",
      "source": [
        "## $\\mu_s > \\mu_c$となる確率の計算"
      ],
      "metadata": {
        "id": "4Fzu7bgh_DXF"
      }
    },
    {
      "cell_type": "code",
      "source": [
        "(mean_s_samples > mean_c_samples).sum() / n_samples"
      ],
      "metadata": {
        "id": "UNF_MmhV8Vok"
      },
      "execution_count": null,
      "outputs": []
    },
    {
      "cell_type": "markdown",
      "source": [
        "## 予測分布を求める\n",
        "* t分布について、自由度とlocationとscaleを、 指定する。"
      ],
      "metadata": {
        "id": "flTCbGl8P_ww"
      }
    },
    {
      "cell_type": "code",
      "source": [
        "from scipy.stats import t"
      ],
      "metadata": {
        "id": "rPNIZpt088yN"
      },
      "execution_count": null,
      "outputs": []
    },
    {
      "cell_type": "code",
      "source": [
        "n_samples = 10000\n",
        "\n",
        "rv_s = t(2 * alpha_s, loc=mu_s, scale=np.sqrt(beta_s * (lambda_s + 1) / (alpha_s * lambda_s)))\n",
        "x_s_samples = rv_s.rvs(n_samples)\n",
        "rv_c = t(2 * alpha_c, loc=mu_c, scale=np.sqrt(beta_c * (lambda_c + 1) / (alpha_c * lambda_c)))\n",
        "x_c_samples = rv_c.rvs(n_samples)"
      ],
      "metadata": {
        "id": "Nj_T2GB9QKa0"
      },
      "execution_count": null,
      "outputs": []
    },
    {
      "cell_type": "code",
      "source": [
        "sns.histplot({'spurters':x_s_samples, 'controls':x_c_samples});"
      ],
      "metadata": {
        "id": "ox7vTh7DQhD4"
      },
      "execution_count": null,
      "outputs": []
    },
    {
      "cell_type": "markdown",
      "source": [
        "* 同じ仮定を置ける状況下で、次に観測されるspurterのIQ変化量が、次に観測されるcontrolのIQ変化量よりも大きい確率\n",
        "  * 平均パラメータではなく、予測値を比べている点に注意。"
      ],
      "metadata": {
        "id": "Wvk7eOzJVNPV"
      }
    },
    {
      "cell_type": "code",
      "source": [
        "(x_s_samples > x_c_samples).sum() / n_samples"
      ],
      "metadata": {
        "id": "5QTiS0zoQxyN"
      },
      "execution_count": null,
      "outputs": []
    },
    {
      "cell_type": "markdown",
      "source": [
        "## モデル選択\n",
        "* log pointwise predictive densityによってモデルを選択する。"
      ],
      "metadata": {
        "id": "jCKG9j_t368u"
      }
    },
    {
      "cell_type": "markdown",
      "source": [
        "### ここまでの復習"
      ],
      "metadata": {
        "id": "6wLqc0-I-aE7"
      }
    },
    {
      "cell_type": "markdown",
      "source": [
        "* ここまで使っていたハイパーパラメータ"
      ],
      "metadata": {
        "id": "pXtwWdBt9KJ1"
      }
    },
    {
      "cell_type": "code",
      "source": [
        "alpha = 0.5\n",
        "beta = 100 * alpha\n",
        "lambda_0 = 1.0\n",
        "mu_0 = (x_s.sum() + x_c.sum()) / (len(x_s) + len(x_c))"
      ],
      "metadata": {
        "id": "D0RXGBG09III"
      },
      "execution_count": null,
      "outputs": []
    },
    {
      "cell_type": "markdown",
      "source": [
        "* 事後分布のパラメータを求めるヘルパ関数"
      ],
      "metadata": {
        "id": "x_K3jLJP4eud"
      }
    },
    {
      "cell_type": "code",
      "source": [
        "def posterior_parameters(x):\n",
        "  N = len(x)\n",
        "  mean_x = x.mean()\n",
        "  mu_ = (lambda_0 * mu_0 + sum(x)) / (lambda_0 + N)\n",
        "  lambda_ = lambda_0 + N\n",
        "  alpha_ = alpha + N / 2\n",
        "  beta_ = (\n",
        "      beta + (((x - mean_x) ** 2).sum()\n",
        "      + lambda_0 * N * (mean_x - mu_0) ** 2 / (lambda_0 + N)) / 2\n",
        "  )\n",
        "  return mu_, lambda_, alpha_, beta_"
      ],
      "metadata": {
        "id": "o20OSU1s2UYa"
      },
      "execution_count": null,
      "outputs": []
    },
    {
      "cell_type": "markdown",
      "source": [
        "* $\\mu_s > \\mu_c$となる確率の計算"
      ],
      "metadata": {
        "id": "ztqMhq4n46yL"
      }
    },
    {
      "cell_type": "code",
      "source": [
        "n_samples = 100000\n",
        "\n",
        "mean_samples = []\n",
        "for x in [x_s, x_c]:\n",
        "  mu_, lambda_, alpha_, beta_ = posterior_parameters(x)\n",
        "  rv = gamma(alpha_, scale=1/beta_)\n",
        "  tau_samples = rv.rvs(n_samples)\n",
        "  mean_samples.append(np.random.randn(n_samples) / np.sqrt(lambda_ * tau_samples) + mu_)\n",
        "\n",
        "prob = (mean_samples[0] > mean_samples[1]).sum() / n_samples\n",
        "print(f\"P(mu_s > mu_c | x_s, x_c) = {prob:.3f}\")"
      ],
      "metadata": {
        "id": "Eb1tfFeQ4Gkv"
      },
      "execution_count": null,
      "outputs": []
    },
    {
      "cell_type": "markdown",
      "source": [
        "### log pointwise predictive density\n",
        "* データセットから1点除外する。\n",
        "* 除外したもの以外全てを使って事後分布を求める。\n",
        "* その事後分布のもとで、除外した1点の対数予測確率を求める。"
      ],
      "metadata": {
        "id": "F-O9ur_b7AGa"
      }
    },
    {
      "cell_type": "code",
      "source": [
        "def logpdf(x, mu_, lambda_, alpha_, beta_):\n",
        "  rv = t(2 * alpha_, loc=mu_, scale=np.sqrt(beta_ * (lambda_ + 1) / (alpha_ * lambda_)))\n",
        "  return rv.logpdf(x)"
      ],
      "metadata": {
        "id": "5lS7m2Kn40cF"
      },
      "execution_count": null,
      "outputs": []
    },
    {
      "cell_type": "code",
      "source": [
        "def log_pointwise_predictive_density(x):\n",
        "  temp_logpdf = []\n",
        "  for idx in range(len(x)):\n",
        "    mu_, lambda_, alpha_, beta_ = posterior_parameters(np.delete(x, idx))\n",
        "    temp_logpdf.append(logpdf(x[idx], mu_, lambda_, alpha_, beta_))\n",
        "  return np.array(temp_logpdf).mean()"
      ],
      "metadata": {
        "id": "chVuT3rB_LYJ"
      },
      "execution_count": null,
      "outputs": []
    },
    {
      "cell_type": "markdown",
      "source": [
        "### ハイパーパラメータの設定 (1)"
      ],
      "metadata": {
        "id": "QYO911w94aXK"
      }
    },
    {
      "cell_type": "code",
      "source": [
        "alpha = 0.5\n",
        "beta = 100 * alpha\n",
        "lambda_0 = 1.0\n",
        "mu_0 = (x_s.sum() + x_c.sum()) / (len(x_s) + len(x_c))"
      ],
      "metadata": {
        "id": "DPoK--Y28UX8"
      },
      "execution_count": null,
      "outputs": []
    },
    {
      "cell_type": "code",
      "source": [
        "lppds = []\n",
        "for x_ in [x_s, x_c]:\n",
        "  lppds.append(log_pointwise_predictive_density(x_))\n",
        "print(f\"{np.array(lppds).mean():.3f} (x_s: {lppds[0]:.3f}, x_c: {lppds[1]:.3f})\")"
      ],
      "metadata": {
        "id": "c1RznnyF6BmS"
      },
      "execution_count": null,
      "outputs": []
    },
    {
      "cell_type": "markdown",
      "source": [
        "### ハイパーパラメータの設定 (2)"
      ],
      "metadata": {
        "id": "epgcSlwh-94W"
      }
    },
    {
      "cell_type": "code",
      "source": [
        "alpha = 0.5\n",
        "beta = 100 * alpha\n",
        "lambda_0 = 1.0\n",
        "mu_0 = x_c.sum() / len(x_c) # mu_0をcontrolsだけで決める"
      ],
      "metadata": {
        "id": "i4oMa7VU_Aja"
      },
      "execution_count": null,
      "outputs": []
    },
    {
      "cell_type": "code",
      "source": [
        "lppds = []\n",
        "for x_ in [x_s, x_c]:\n",
        "  lppds.append(log_pointwise_predictive_density(x_))\n",
        "print(f\"{np.array(lppds).mean():.3f} (x_s: {lppds[0]:.3f}, x_c: {lppds[1]:.3f})\")"
      ],
      "metadata": {
        "id": "f-M8sz2474HS"
      },
      "execution_count": null,
      "outputs": []
    },
    {
      "cell_type": "markdown",
      "source": [
        "### ハイパーパラメータの設定 (3)"
      ],
      "metadata": {
        "id": "r6tFY4Uf-6R2"
      }
    },
    {
      "cell_type": "code",
      "source": [
        "alpha = 5.0 # 事前分布を強くする\n",
        "beta = 100 * alpha\n",
        "lambda_0 = 1.0\n",
        "mu_0 = (x_s.sum() + x_c.sum()) / (len(x_s) + len(x_c))"
      ],
      "metadata": {
        "id": "3L9mJouM66QS"
      },
      "execution_count": null,
      "outputs": []
    },
    {
      "cell_type": "code",
      "source": [
        "lppds = []\n",
        "for x_ in [x_s, x_c]:\n",
        "  lppds.append(log_pointwise_predictive_density(x_))\n",
        "print(f\"{np.array(lppds).mean():.3f} (x_s: {lppds[0]:.3f}, x_c: {lppds[1]:.3f})\")"
      ],
      "metadata": {
        "id": "fVuJoCCb76V0"
      },
      "execution_count": null,
      "outputs": []
    },
    {
      "cell_type": "markdown",
      "source": [
        "* alphaを探索してみる？"
      ],
      "metadata": {
        "id": "HGyVaFG8BmJf"
      }
    },
    {
      "cell_type": "code",
      "source": [
        "lambda_0 = 1.0\n",
        "mu_0 = (x_s.sum() + x_c.sum()) / (len(x_s) + len(x_c))\n",
        "\n",
        "for alpha in (np.arange(30) + 1) * 0.5:\n",
        "  beta = 100 * alpha\n",
        "  lppds = []\n",
        "  for x_ in [x_s, x_c]:\n",
        "    lppds.append(log_pointwise_predictive_density(x_))\n",
        "  print(f\"alpha={alpha} | {np.array(lppds).mean():.5f} (x_s: {lppds[0]:.3f}, x_c: {lppds[1]:.3f})\")"
      ],
      "metadata": {
        "id": "P0hRHnCNAVNK"
      },
      "execution_count": null,
      "outputs": []
    },
    {
      "cell_type": "code",
      "source": [],
      "metadata": {
        "id": "vs6HWI7TBWi0"
      },
      "execution_count": null,
      "outputs": []
    }
  ]
}