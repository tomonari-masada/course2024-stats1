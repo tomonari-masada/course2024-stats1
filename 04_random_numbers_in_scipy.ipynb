{
  "nbformat": 4,
  "nbformat_minor": 0,
  "metadata": {
    "colab": {
      "provenance": [],
      "authorship_tag": "ABX9TyPc+VpDg93UBjjp2jy1lGdX",
      "include_colab_link": true
    },
    "kernelspec": {
      "name": "python3",
      "display_name": "Python 3"
    },
    "language_info": {
      "name": "python"
    }
  },
  "cells": [
    {
      "cell_type": "markdown",
      "metadata": {
        "id": "view-in-github",
        "colab_type": "text"
      },
      "source": [
        "<a href=\"https://colab.research.google.com/github/tomonari-masada/course2024-stats1/blob/main/04_random_numbers_in_scipy.ipynb\" target=\"_parent\"><img src=\"https://colab.research.google.com/assets/colab-badge.svg\" alt=\"Open In Colab\"/></a>"
      ]
    },
    {
      "cell_type": "markdown",
      "source": [
        "# 乱数の生成\n",
        "* NumPyやscipyを使うと、多くの確率分布について、それに従う乱数を発生させることができる。\n",
        "  * https://numpy.org/doc/stable/reference/random/generator.html\n",
        "  * https://docs.scipy.org/doc/scipy/tutorial/stats/probability_distributions.html#random-number-generation"
      ],
      "metadata": {
        "id": "ZjvAlabV4SF4"
      }
    },
    {
      "cell_type": "code",
      "source": [
        "import numpy as np\n",
        "import pandas as pd\n",
        "import matplotlib.pyplot as plt\n",
        "\n",
        "#発生させる乱数の個数\n",
        "size = 10000"
      ],
      "metadata": {
        "id": "6LjKeh2Q8QeE"
      },
      "execution_count": null,
      "outputs": []
    },
    {
      "cell_type": "markdown",
      "source": [
        "## 乱数の初期化"
      ],
      "metadata": {
        "id": "mv07Q3yx46I4"
      }
    },
    {
      "cell_type": "markdown",
      "source": [
        "### NumPyのrandom number generator\n",
        "* scipyの乱数生成はNumPyのそれに依存している。\n",
        "* よって、NumPyでのrandom number generator作成方法をそのまま使う。\n",
        "  * https://numpy.org/doc/stable/reference/random/generator.html#numpy.random.Generator\n",
        "* 上のリンク先の説明によると\n",
        "> Using just a small set of seeds to instantiate larger state spaces means that there are some initial states that are impossible to reach. This creates some biases if everyone uses such values."
      ],
      "metadata": {
        "id": "KZiqf73D5Rkw"
      }
    },
    {
      "cell_type": "code",
      "source": [
        "seed = np.random.SeedSequence().entropy\n",
        "print(seed)\n",
        "rng = np.random.default_rng(seed=seed)\n",
        "rng"
      ],
      "metadata": {
        "id": "iuDadZFy48Uu"
      },
      "execution_count": null,
      "outputs": []
    },
    {
      "cell_type": "markdown",
      "source": [
        "### random number generatorの使い方\n",
        "* NumPyの場合は、以下のようにしてrandom number generatorを使う。"
      ],
      "metadata": {
        "id": "cQennmAn5UXL"
      }
    },
    {
      "cell_type": "markdown",
      "source": [
        "* 例１: 一様分布"
      ],
      "metadata": {
        "id": "k7HAuFLB62uF"
      }
    },
    {
      "cell_type": "code",
      "source": [
        "arr1 = rng.random((3, 3))\n",
        "arr1"
      ],
      "metadata": {
        "id": "KoeVgntX5W4b"
      },
      "execution_count": null,
      "outputs": []
    },
    {
      "cell_type": "markdown",
      "source": [
        "* 例2: ランダムな置換"
      ],
      "metadata": {
        "id": "QxCBR0uh6v0l"
      }
    },
    {
      "cell_type": "code",
      "source": [
        "x = rng.permuted(np.arange(10))\n",
        "x"
      ],
      "metadata": {
        "id": "BmlyIUVs6drm"
      },
      "execution_count": null,
      "outputs": []
    },
    {
      "cell_type": "markdown",
      "source": [
        "## ベルヌーイ分布"
      ],
      "metadata": {
        "id": "e6A4rcw84gYt"
      }
    },
    {
      "cell_type": "markdown",
      "source": [
        "* 一方のアイテムの出現確率が0.3のベルヌーイ分布を考える。\n",
        "* このベルヌーイ分布に従う乱数を発生させる。\n",
        "  * `rvs`というメソッドを使う。"
      ],
      "metadata": {
        "id": "E-8-kpLp2m6m"
      }
    },
    {
      "cell_type": "code",
      "execution_count": null,
      "metadata": {
        "id": "9Lg5dgHp3NYx"
      },
      "outputs": [],
      "source": [
        "from scipy.stats import bernoulli\n",
        "\n",
        "p = 0.3\n",
        "r = bernoulli.rvs(p, size=size, random_state=rng)\n",
        "pd.DataFrame({\"outcomes\":r}).value_counts().plot.bar();"
      ]
    },
    {
      "cell_type": "markdown",
      "source": [
        "* ベルヌーイ分布に従う乱数を自前で生成する方法\n",
        "  * 一様乱数を利用する。"
      ],
      "metadata": {
        "id": "o_R9bcIM_gBF"
      }
    },
    {
      "cell_type": "code",
      "source": [
        "def bernoulli_trial(p, rng):\n",
        "  if rng.random() < p:\n",
        "    return 1\n",
        "  else:\n",
        "    return 0"
      ],
      "metadata": {
        "id": "Yb_kx-vk-57t"
      },
      "execution_count": null,
      "outputs": []
    },
    {
      "cell_type": "code",
      "source": [
        "outcomes = list()\n",
        "for _ in range(size):\n",
        "  outcomes.append(bernoulli_trial(0.3, rng))\n",
        "outcomes = np.array(outcomes)\n",
        "pd.DataFrame({\"outcomes\":outcomes}).value_counts().plot.bar();"
      ],
      "metadata": {
        "id": "mlBe1JZ5_RXD"
      },
      "execution_count": null,
      "outputs": []
    },
    {
      "cell_type": "markdown",
      "source": [
        "* forループを使わずに書く。"
      ],
      "metadata": {
        "id": "PUWMBkss78DF"
      }
    },
    {
      "cell_type": "code",
      "source": [
        "r = (rng.random(size=size) < 0.3) * 1\n",
        "pd.DataFrame({\"outcomes\":r}).value_counts().plot.bar();"
      ],
      "metadata": {
        "id": "OYKnWpCV6eqU"
      },
      "execution_count": null,
      "outputs": []
    },
    {
      "cell_type": "markdown",
      "source": [
        "* この例のように・・・\n",
        "  * 簡単な確率分布に従う乱数を使うと・・・\n",
        "  * 別の確率分布に従う乱数を作ることができる場合がある。"
      ],
      "metadata": {
        "id": "P4UGokDnkWn9"
      }
    },
    {
      "cell_type": "markdown",
      "source": [
        "## 二項分布"
      ],
      "metadata": {
        "id": "WhhNcXHw9kQs"
      }
    },
    {
      "cell_type": "markdown",
      "source": [
        "* 二項分布に従う「乱数」を生成するには・・・\n",
        "  * ベルヌーイ試行を$n$回繰り返すということを、何回も繰り返せばよい。\n",
        "  * つまり、「乱数」というよりも、「長さ$n$のランダムなアイテム列」をたくさん生成することになる。"
      ],
      "metadata": {
        "id": "GMWMjPPg_1s8"
      }
    },
    {
      "cell_type": "markdown",
      "source": [
        "* 確率質量関数を描いてみる。"
      ],
      "metadata": {
        "id": "2gMSoqul4Whw"
      }
    },
    {
      "cell_type": "code",
      "source": [
        "from scipy.stats import binom\n",
        "\n",
        "n, p = 8, 0.4\n",
        "x = np.arange(n+1)\n",
        "plt.plot(x, binom.pmf(x, n, p), 'bo')\n",
        "plt.vlines(x, 0, binom.pmf(x, n, p), colors='b');"
      ],
      "metadata": {
        "id": "8fA_JINf8cNs"
      },
      "execution_count": null,
      "outputs": []
    },
    {
      "cell_type": "markdown",
      "source": [
        "* この二項分布に従うランダムな長さnのアイテム列を発生させ、頻度分布を描いてみる。\n",
        "  * アイテムの出現順が違うだけのアイテム列は、全て同一視される。"
      ],
      "metadata": {
        "id": "FLu5e1Hr4ygg"
      }
    },
    {
      "cell_type": "code",
      "source": [
        "r = rng.binomial(n, p, size=size)\n",
        "#r = binom.rvs(n, p, size=size, random_state=rng)\n",
        "pd.DataFrame({\"outcomes\":r}).value_counts().sort_index().plot.bar();"
      ],
      "metadata": {
        "id": "OwbMkPRS-5F6"
      },
      "execution_count": null,
      "outputs": []
    },
    {
      "cell_type": "markdown",
      "source": [
        "## 単変量正規分布"
      ],
      "metadata": {
        "id": "qSIQxg9jCJxD"
      }
    },
    {
      "cell_type": "markdown",
      "source": [
        "### 標準正規分布\n",
        "* 標準正規分布の確率密度関数を描いてみる。"
      ],
      "metadata": {
        "id": "B2fUtBu342FF"
      }
    },
    {
      "cell_type": "code",
      "source": [
        "from scipy.stats import norm\n",
        "\n",
        "x = np.linspace(-3, 3, 601)\n",
        "plt.plot(x, norm.pdf(x), 'r-');"
      ],
      "metadata": {
        "id": "iZHS6_SgA2UW"
      },
      "execution_count": null,
      "outputs": []
    },
    {
      "cell_type": "markdown",
      "source": [
        "* 正規乱数を発生させて、相対頻度の分布を描いてみる。\n",
        "* `density=True`とする。\n",
        "  * こうすると、ヒストグラムの下の面積が1になるように描いてくれる。\n",
        "  * 詳しくは https://matplotlib.org/stable/api/_as_gen/matplotlib.pyplot.hist.html"
      ],
      "metadata": {
        "id": "K8xKaf_G45lo"
      }
    },
    {
      "cell_type": "code",
      "source": [
        "r = rng.standard_normal(size=size)\n",
        "#r = norm.rvs(size=size, random_state=rng)\n",
        "plt.plot(x, norm.pdf(x), 'r-') # 上と同じ\n",
        "plt.hist(r, density=True, bins='auto', histtype='stepfilled', alpha=0.2);"
      ],
      "metadata": {
        "id": "KqyTdzgJCxA_"
      },
      "execution_count": null,
      "outputs": []
    },
    {
      "cell_type": "markdown",
      "source": [
        "* 問: 下の2つの値は、正規分布の、どういう値でしょうか？\n",
        "  * ヒント: ppf = percent point function"
      ],
      "metadata": {
        "id": "SgVYw9qVDsAI"
      }
    },
    {
      "cell_type": "code",
      "source": [
        "print(norm.ppf(0.01))\n",
        "print(norm.ppf(0.99))"
      ],
      "metadata": {
        "id": "2w1czROBC9bG"
      },
      "execution_count": null,
      "outputs": []
    },
    {
      "cell_type": "markdown",
      "source": [
        "### 一般の正規分布\n",
        "  * 平均パラメータを0でない適当な値にする。\n",
        "  * 標準偏差パラメータも適当な値にする。"
      ],
      "metadata": {
        "id": "ziBW0TYQ5i6I"
      }
    },
    {
      "cell_type": "markdown",
      "source": [
        "* 確率密度関数を描いてみる。"
      ],
      "metadata": {
        "id": "8atoZE_2pxYA"
      }
    },
    {
      "cell_type": "code",
      "source": [
        "# これは標準正規分布\n",
        "plt.plot(x, norm.pdf(x), 'r-')\n",
        "\n",
        "# こちらが標準正規分布でない正規分布\n",
        "loc, scale = 0.2, 0.5\n",
        "plt.plot(x, norm.pdf(x, loc=loc, scale=scale), 'b-');"
      ],
      "metadata": {
        "id": "8hnDE3dbDrd0"
      },
      "execution_count": null,
      "outputs": []
    },
    {
      "cell_type": "markdown",
      "source": [
        "* 標準正規分布でない正規分布に従う乱数を発生させる。"
      ],
      "metadata": {
        "id": "-56QCwN0e1Ux"
      }
    },
    {
      "cell_type": "code",
      "source": [
        "r = rng.normal(size=size, loc=loc, scale=scale)\n",
        "#r = norm.rvs(size=size, loc=loc, scale=scale)\n",
        "plt.plot(x, norm.pdf(x, loc=loc, scale=scale), 'b-')\n",
        "plt.hist(r, density=True, bins='auto', histtype='stepfilled', alpha=0.2);"
      ],
      "metadata": {
        "id": "HC784TTtEUWx"
      },
      "execution_count": null,
      "outputs": []
    },
    {
      "cell_type": "markdown",
      "source": [
        "* 正規乱数から、任意の正規分布に従う乱数を、作ることができる。\n",
        "  * 標準偏差を掛けて、平均を足せばよい。"
      ],
      "metadata": {
        "id": "pP0UTMRx6G4G"
      }
    },
    {
      "cell_type": "code",
      "source": [
        "r = norm.rvs(size=size) * scale + loc\n",
        "#r = rng.standard_normal(size=size) * scale + loc\n",
        "plt.plot(x, norm.pdf(x, loc=loc, scale=scale), 'b-')\n",
        "plt.hist(r, density=True, bins='auto', histtype='stepfilled', alpha=0.2);"
      ],
      "metadata": {
        "id": "LDdIjVjVEpKw"
      },
      "execution_count": null,
      "outputs": []
    },
    {
      "cell_type": "markdown",
      "source": [
        "## 二変量正規分布"
      ],
      "metadata": {
        "id": "OS2HafO_FkSS"
      }
    },
    {
      "cell_type": "markdown",
      "source": [
        "* 二変量なので、密度関数の高さを、平面上に等高線で可視化することにする。"
      ],
      "metadata": {
        "id": "TgfAs-U1fC81"
      }
    },
    {
      "cell_type": "markdown",
      "source": [
        "* 等高線図を描く準備\n",
        "  * xy平面にグリッドを設定する。"
      ],
      "metadata": {
        "id": "oyLFGy3vKiyl"
      }
    },
    {
      "cell_type": "code",
      "source": [
        "x = np.linspace(-3, 3, 601)\n",
        "y = np.linspace(-3, 3, 601)\n",
        "X, Y = np.meshgrid(x, y)\n",
        "pos = np.stack([X, Y], axis=2)"
      ],
      "metadata": {
        "id": "MkG5huAfGnlb"
      },
      "execution_count": null,
      "outputs": []
    },
    {
      "cell_type": "markdown",
      "source": [
        "* 二変量正規分布の等高線図"
      ],
      "metadata": {
        "id": "TykO6YbrKlzW"
      }
    },
    {
      "cell_type": "code",
      "source": [
        "from scipy.stats import multivariate_normal\n",
        "\n",
        "cov = [[1, 0.2], [0.2, 1]]\n",
        "ax = plt.subplot(1,1,1)\n",
        "ax.contourf(X, Y, multivariate_normal.pdf(pos, cov=cov))\n",
        "ax.set_aspect('equal');"
      ],
      "metadata": {
        "id": "bzNm4sntExeG"
      },
      "execution_count": null,
      "outputs": []
    },
    {
      "cell_type": "markdown",
      "source": [
        "* 二変量正規分布に従う「乱数」の散布図を描く。\n",
        "  * 二変量なので、「乱数」と言うよりも、「ランダムな二次元ベクトル」を発生させることになる。"
      ],
      "metadata": {
        "id": "pfpMS56WL7NJ"
      }
    },
    {
      "cell_type": "code",
      "source": [
        "r = multivariate_normal.rvs(size=size, cov=cov, random_state=rng)\n",
        "ax = plt.subplot(1,1,1)\n",
        "ax.plot(r[:,0], r[:,1], 'o', alpha=0.1)\n",
        "ax.axis('equal');"
      ],
      "metadata": {
        "id": "HrFm3O85IU_l"
      },
      "execution_count": null,
      "outputs": []
    },
    {
      "cell_type": "markdown",
      "source": [
        "# 本日の課題\n",
        "* 適当に、二変量正規分布を設定する。\n",
        "  * つまり、平均ベクトルと、共分散行列を設定する。\n",
        "* まず、その二変量正規分布の確率密度関数の等高線を描く。\n",
        "  * 上の例を参考にしてください。\n",
        "* 次に、その二変量正規分布に従う乱数を10000個発生させる。\n",
        "* そして、サンプルの散布図を描画する。\n",
        "  * これも、上の例を参考にしてください。\n",
        "* ただし、`rng.standard_normal()`だけを使うこと。\n",
        "  * NumPyやscipyの`multivariate_normal`は使わないこと。"
      ],
      "metadata": {
        "id": "TX0_3wdC6VUk"
      }
    },
    {
      "cell_type": "markdown",
      "source": [
        "## 課題のヒント\n",
        "* ヒント1: まず、正規乱数をたくさん発生させましょう。\n",
        "  * 何個の正規乱数が必要かは、考えましょう。\n",
        "* ヒント2: コレスキー分解を使いましょう。\n",
        "  * コレスキー分解は、以下のようにすると簡単に求まります。"
      ],
      "metadata": {
        "id": "RpwL6Vk77fnU"
      }
    },
    {
      "cell_type": "code",
      "source": [
        "cov = np.array([[1, 0.2], [0.2, 1]])\n",
        "cov_L = np.linalg.cholesky(cov)\n",
        "print(cov_L)\n",
        "print(cov_L @ cov_L.T)"
      ],
      "metadata": {
        "id": "y74htHONK_-_"
      },
      "execution_count": null,
      "outputs": []
    },
    {
      "cell_type": "markdown",
      "source": [
        "\n",
        "\n",
        "---\n",
        "\n",
        "---"
      ],
      "metadata": {
        "id": "UgTt2lAfuvvn"
      }
    },
    {
      "cell_type": "markdown",
      "source": [
        "# Appendix"
      ],
      "metadata": {
        "id": "qf49dupzrcIV"
      }
    },
    {
      "cell_type": "markdown",
      "source": [
        "## 逆関数法\n",
        "* 指数分布の例"
      ],
      "metadata": {
        "id": "CAqIQXY5Pgex"
      }
    },
    {
      "cell_type": "code",
      "source": [
        "def F_inverse(u, l):\n",
        "  return - np.log(1 - u) / l"
      ],
      "metadata": {
        "id": "_CIZyhgUPjc4"
      },
      "execution_count": null,
      "outputs": []
    },
    {
      "cell_type": "code",
      "source": [
        "from scipy.stats import expon\n",
        "\n",
        "l = 2.0\n",
        "x = np.linspace(0, 5, 501)\n",
        "r = F_inverse(rng.random(size), l)\n",
        "plt.hist(r, density=True, bins='auto', histtype='stepfilled', alpha=0.2);\n",
        "plt.plot(x, expon.pdf(x, scale=1/l), 'b-');"
      ],
      "metadata": {
        "id": "xQaGdEP0Pz4f"
      },
      "execution_count": null,
      "outputs": []
    },
    {
      "cell_type": "markdown",
      "source": [
        "## ベータ分布"
      ],
      "metadata": {
        "id": "Fhh2vkGzu0cY"
      }
    },
    {
      "cell_type": "markdown",
      "source": [
        "* ベータ分布に従う乱数は・・・\n",
        "  * 二つのパラメータが1より大きい場合はガンマ分布に従う乱数から作ることができる。\n",
        "  * そうでない場合は、特殊なアルゴリズムが必要。\n",
        "  * 下記の`double random_beta()`という関数を参照。\n",
        "    * https://github.com/numpy/numpy/blob/main/numpy/random/src/distributions/distributions.c"
      ],
      "metadata": {
        "id": "t0ycmHLprfMt"
      }
    },
    {
      "cell_type": "markdown",
      "source": [
        "### ガンマ分布\n",
        "* shapeパラメータが1より大きい場合を考える。"
      ],
      "metadata": {
        "id": "0aT5Y4owsbMC"
      }
    },
    {
      "cell_type": "code",
      "source": [
        "from scipy.stats import gamma\n",
        "\n",
        "a = 3.0\n",
        "x = np.linspace(0, 10, 501)\n",
        "plt.plot(x, gamma.pdf(x, a), 'r-');"
      ],
      "metadata": {
        "id": "EGKYghzfres9"
      },
      "execution_count": null,
      "outputs": []
    },
    {
      "cell_type": "code",
      "source": [
        "r = rng.gamma(a, size=size)\n",
        "#r = gamma.rvs(a, size=size, random_state=rng)\n",
        "plt.plot(x, gamma.pdf(x, a), 'r-') # 上と同じ\n",
        "plt.hist(r, density=True, bins='auto', histtype='stepfilled', alpha=0.2);"
      ],
      "metadata": {
        "id": "oZi1K0b1sGAO"
      },
      "execution_count": null,
      "outputs": []
    },
    {
      "cell_type": "markdown",
      "source": [
        "### ベータ分布"
      ],
      "metadata": {
        "id": "Pb6k116atBdk"
      }
    },
    {
      "cell_type": "markdown",
      "source": [
        "* 確率密度関数を描く。"
      ],
      "metadata": {
        "id": "zEWQbBtrthFu"
      }
    },
    {
      "cell_type": "code",
      "source": [
        "from scipy.stats import beta\n",
        "\n",
        "a = 3.0\n",
        "b = 2.0\n",
        "x = np.linspace(0, 1, 101)\n",
        "plt.plot(x, beta.pdf(x, a, b), 'r-');"
      ],
      "metadata": {
        "id": "mOXOcioZtK9o"
      },
      "execution_count": null,
      "outputs": []
    },
    {
      "cell_type": "code",
      "source": [
        "r = rng.beta(a, b, size=size)\n",
        "#r = beta.rvs(a, b, size=size, random_state=rng)\n",
        "plt.plot(x, beta.pdf(x, a, b), 'r-') # 上と同じ\n",
        "plt.hist(r, density=True, bins='auto', histtype='stepfilled', alpha=0.2);"
      ],
      "metadata": {
        "id": "DTTx8Dd-tzxD"
      },
      "execution_count": null,
      "outputs": []
    },
    {
      "cell_type": "markdown",
      "source": [
        "* shapeパラメータがaとbの二つのガンマ分布に従う乱数を発生させる。\n",
        "* それらを規格化すると、ベータ分布に従う乱数が得られる。"
      ],
      "metadata": {
        "id": "EPbzGw90tgaW"
      }
    },
    {
      "cell_type": "code",
      "source": [
        "ra = rng.gamma(a, size=size)\n",
        "rb = rng.gamma(b, size=size)\n",
        "r = ra / (ra + rb)\n",
        "plt.plot(x, beta.pdf(x, a, b), 'r-') # 上と同じ\n",
        "plt.hist(r, density=True, bins='auto', histtype='stepfilled', alpha=0.2);"
      ],
      "metadata": {
        "id": "v-3WliJTuCn3"
      },
      "execution_count": null,
      "outputs": []
    },
    {
      "cell_type": "markdown",
      "source": [
        "## カテゴリカル分布"
      ],
      "metadata": {
        "id": "ufOZwSjDwaci"
      }
    },
    {
      "cell_type": "markdown",
      "source": [
        "* 確率質量関数"
      ],
      "metadata": {
        "id": "9aeOQo5Q2amm"
      }
    },
    {
      "cell_type": "code",
      "source": [
        "p = np.array([0.3, 0.25, 0.2, 0.15, 0.1])\n",
        "k = len(p)\n",
        "\n",
        "plt.plot(np.arange(k), p, 'ro')\n",
        "plt.vlines(np.arange(k), 0, p, colors='r');"
      ],
      "metadata": {
        "id": "T1bYjG8i0wzT"
      },
      "execution_count": null,
      "outputs": []
    },
    {
      "cell_type": "markdown",
      "source": [
        "* NumPyを使う。"
      ],
      "metadata": {
        "id": "juLuomun2esF"
      }
    },
    {
      "cell_type": "code",
      "source": [
        "r = rng.choice(np.arange(k), p=p, size=size)\n",
        "pd.DataFrame({\"outcomes\":r}).value_counts().plot.bar(color='r');"
      ],
      "metadata": {
        "id": "sH10Gu7YzguC"
      },
      "execution_count": null,
      "outputs": []
    },
    {
      "cell_type": "markdown",
      "source": [
        "* 一様乱数を使う。"
      ],
      "metadata": {
        "id": "YgTsp5Mg2tN-"
      }
    },
    {
      "cell_type": "code",
      "source": [
        "r = (p.cumsum().reshape(1, -1) < rng.random(size=size).reshape(-1, 1)).sum(-1)\n",
        "pd.DataFrame({\"outcomes\":r}).value_counts().plot.bar(color='r');"
      ],
      "metadata": {
        "id": "NL60dGLW0pDe"
      },
      "execution_count": null,
      "outputs": []
    },
    {
      "cell_type": "markdown",
      "source": [
        "### Gumbel Max Trick"
      ],
      "metadata": {
        "id": "jGnla41Q2xyc"
      }
    },
    {
      "cell_type": "code",
      "source": [
        "from scipy.stats import gumbel_r\n",
        "\n",
        "x = np.linspace(-2, 8, 1001)\n",
        "plt.plot(x, gumbel_r.pdf(x), 'r-');"
      ],
      "metadata": {
        "id": "NeApwamkwdH7"
      },
      "execution_count": null,
      "outputs": []
    },
    {
      "cell_type": "code",
      "source": [
        "r = rng.gumbel(size=size)\n",
        "#r = gumbel_r.rvs(size=size, random_state=rng)\n",
        "plt.hist(r, density=True, bins='auto', histtype='stepfilled', alpha=0.2)\n",
        "plt.plot(x, gumbel_r.pdf(x), 'r-') # 上と同じ\n",
        "plt.hist(r, density=True, bins='auto', histtype='stepfilled', alpha=0.2);"
      ],
      "metadata": {
        "id": "aILkRqB8xlgH"
      },
      "execution_count": null,
      "outputs": []
    },
    {
      "cell_type": "code",
      "source": [
        "r = (np.log(p + 1e-10) + rng.gumbel(size=(size, k))).argmax(-1)\n",
        "pd.DataFrame({\"outcomes\":r}).value_counts().plot.bar(color='r');"
      ],
      "metadata": {
        "id": "HNHne-tS3KU9"
      },
      "execution_count": null,
      "outputs": []
    },
    {
      "cell_type": "code",
      "source": [],
      "metadata": {
        "id": "e4BH4W8v4AWt"
      },
      "execution_count": null,
      "outputs": []
    }
  ]
}