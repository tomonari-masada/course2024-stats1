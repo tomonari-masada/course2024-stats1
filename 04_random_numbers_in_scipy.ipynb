{
  "nbformat": 4,
  "nbformat_minor": 0,
  "metadata": {
    "colab": {
      "provenance": [],
      "authorship_tag": "ABX9TyP0R3n45/e2vjcz4EoDp3zs",
      "include_colab_link": true
    },
    "kernelspec": {
      "name": "python3",
      "display_name": "Python 3"
    },
    "language_info": {
      "name": "python"
    }
  },
  "cells": [
    {
      "cell_type": "markdown",
      "metadata": {
        "id": "view-in-github",
        "colab_type": "text"
      },
      "source": [
        "<a href=\"https://colab.research.google.com/github/tomonari-masada/course2024-stats1/blob/main/04_random_numbers_in_scipy.ipynb\" target=\"_parent\"><img src=\"https://colab.research.google.com/assets/colab-badge.svg\" alt=\"Open In Colab\"/></a>"
      ]
    },
    {
      "cell_type": "markdown",
      "source": [
        "# 乱数の生成\n",
        "* scipyを使うと、いくつかの確率分布については、それに従う乱数を発生させることができる。\n",
        "  * https://docs.scipy.org/doc/scipy/tutorial/stats.html#random-number-generation\n",
        "  "
      ],
      "metadata": {
        "id": "ZjvAlabV4SF4"
      }
    },
    {
      "cell_type": "code",
      "source": [
        "import numpy as np\n",
        "import matplotlib.pyplot as plt\n",
        "\n",
        "%config InlineBackend.figure_format = 'retina'"
      ],
      "metadata": {
        "id": "6LjKeh2Q8QeE"
      },
      "execution_count": null,
      "outputs": []
    },
    {
      "cell_type": "markdown",
      "source": [
        "## 乱数の初期化"
      ],
      "metadata": {
        "id": "mv07Q3yx46I4"
      }
    },
    {
      "cell_type": "markdown",
      "source": [
        "### random number generatorの作成\n",
        "* scipyの乱数生成はNumPyのそれに依存している。\n",
        "* よって、NumPyでのrandom number generator作成方法をそのまま使う。\n",
        " * https://numpy.org/doc/stable/reference/random/generator.html#numpy.random.Generator"
      ],
      "metadata": {
        "id": "KZiqf73D5Rkw"
      }
    },
    {
      "cell_type": "code",
      "source": [
        "rng = np.random.default_rng(seed=42)\n",
        "rng"
      ],
      "metadata": {
        "id": "iuDadZFy48Uu"
      },
      "execution_count": null,
      "outputs": []
    },
    {
      "cell_type": "markdown",
      "source": [
        "### random number generatorの使い方\n",
        "* NumPyの場合は、以下のようにしてrandom number generatorを使う。"
      ],
      "metadata": {
        "id": "cQennmAn5UXL"
      }
    },
    {
      "cell_type": "markdown",
      "source": [
        "* 例１: 一様分布"
      ],
      "metadata": {
        "id": "k7HAuFLB62uF"
      }
    },
    {
      "cell_type": "code",
      "source": [
        "arr1 = rng.random((3, 3))\n",
        "arr1"
      ],
      "metadata": {
        "id": "KoeVgntX5W4b"
      },
      "execution_count": null,
      "outputs": []
    },
    {
      "cell_type": "markdown",
      "source": [
        "* 例2: ランダムな置換"
      ],
      "metadata": {
        "id": "QxCBR0uh6v0l"
      }
    },
    {
      "cell_type": "code",
      "source": [
        "x = rng.permuted(np.arange(10))\n",
        "x"
      ],
      "metadata": {
        "id": "BmlyIUVs6drm"
      },
      "execution_count": null,
      "outputs": []
    },
    {
      "cell_type": "markdown",
      "source": [
        "## ベルヌーイ分布"
      ],
      "metadata": {
        "id": "e6A4rcw84gYt"
      }
    },
    {
      "cell_type": "markdown",
      "source": [
        "* 二つのアイテム0と1があるとする。\n",
        "* アイテム1の出現確率が0.3のベルヌーイ分布を考える。"
      ],
      "metadata": {
        "id": "E-8-kpLp2m6m"
      }
    },
    {
      "cell_type": "markdown",
      "source": [
        "* このベルヌーイ分布に従う乱数を1000個発生させる。"
      ],
      "metadata": {
        "id": "4fuPBREw3HvM"
      }
    },
    {
      "cell_type": "code",
      "execution_count": null,
      "metadata": {
        "id": "9Lg5dgHp3NYx"
      },
      "outputs": [],
      "source": [
        "from scipy.stats import bernoulli\n",
        "p = 0.3\n",
        "r = bernoulli.rvs(p, size=1000, random_state=rng)"
      ]
    },
    {
      "cell_type": "markdown",
      "source": [
        "* 発生させた乱数の値の分布を描いてみる。\n",
        "  * アイテム1の割合がほぼ0.3になっているはず。"
      ],
      "metadata": {
        "id": "TMqcnZ3Y2wAF"
      }
    },
    {
      "cell_type": "code",
      "source": [
        "import pandas as pd\n",
        "pd.DataFrame({\"outcomes\":r}).value_counts().plot.bar();"
      ],
      "metadata": {
        "id": "VhBW_Emc79c9"
      },
      "execution_count": null,
      "outputs": []
    },
    {
      "cell_type": "markdown",
      "source": [
        "* ベルヌーイ分布に従う「乱数」を自前で生成する方法\n",
        "  * 一様乱数を利用する。"
      ],
      "metadata": {
        "id": "o_R9bcIM_gBF"
      }
    },
    {
      "cell_type": "code",
      "source": [
        "def bernoulli_trial(p, rng):\n",
        "  if rng.random() < p:\n",
        "    return 1\n",
        "  else:\n",
        "    return 0"
      ],
      "metadata": {
        "id": "Yb_kx-vk-57t"
      },
      "execution_count": null,
      "outputs": []
    },
    {
      "cell_type": "code",
      "source": [
        "outcomes = list()\n",
        "for _ in range(1000):\n",
        "  outcomes.append(bernoulli_trial(0.3, rng))\n",
        "outcomes = np.array(outcomes)\n",
        "pd.DataFrame({\"outcomes\":outcomes}).value_counts().plot.bar();"
      ],
      "metadata": {
        "id": "mlBe1JZ5_RXD"
      },
      "execution_count": null,
      "outputs": []
    },
    {
      "cell_type": "markdown",
      "source": [
        "## 二項分布"
      ],
      "metadata": {
        "id": "WhhNcXHw9kQs"
      }
    },
    {
      "cell_type": "markdown",
      "source": [
        "* 二項分布に従う「乱数」を生成するには・・・\n",
        "  * ベルヌーイ試行をn回繰り返すということを・・・\n",
        "  * 何回も繰り返せばよい。\n",
        "  * つまり、「乱数」というよりも、「ランダムな長さnのアイテム列」をたくさん生成することになる。"
      ],
      "metadata": {
        "id": "GMWMjPPg_1s8"
      }
    },
    {
      "cell_type": "markdown",
      "source": [
        "* 試行回数が8でアイテム1の出現確率が0.4の二項分布を考える。"
      ],
      "metadata": {
        "id": "D3B0Nvqm288X"
      }
    },
    {
      "cell_type": "markdown",
      "source": [
        "* 確率質量関数を描いてみる。"
      ],
      "metadata": {
        "id": "2gMSoqul4Whw"
      }
    },
    {
      "cell_type": "code",
      "source": [
        "from scipy.stats import binom\n",
        "\n",
        "n, p = 8, 0.4\n",
        "x = np.arange(n+1)\n",
        "plt.plot(x, binom.pmf(x, n, p), 'bo')\n",
        "plt.vlines(x, 0, binom.pmf(x, n, p), colors='b');"
      ],
      "metadata": {
        "id": "8fA_JINf8cNs"
      },
      "execution_count": null,
      "outputs": []
    },
    {
      "cell_type": "markdown",
      "source": [
        "* この二項分布に従うランダムな長さnのアイテム列を1000個発生させ、頻度分布を描いてみる。\n",
        "  * アイテムの出現順が違うだけのアイテム列は、全て同一視される。"
      ],
      "metadata": {
        "id": "FLu5e1Hr4ygg"
      }
    },
    {
      "cell_type": "code",
      "source": [
        "r = binom.rvs(n, p, size=1000, random_state=rng)\n",
        "pd.DataFrame({\"outcomes\":r}).value_counts().sort_index().plot.bar();"
      ],
      "metadata": {
        "id": "OwbMkPRS-5F6"
      },
      "execution_count": null,
      "outputs": []
    },
    {
      "cell_type": "markdown",
      "source": [
        "## 単変量正規分布"
      ],
      "metadata": {
        "id": "qSIQxg9jCJxD"
      }
    },
    {
      "cell_type": "markdown",
      "source": [
        "* 標準正規分布の確率密度関数を描いてみる。"
      ],
      "metadata": {
        "id": "B2fUtBu342FF"
      }
    },
    {
      "cell_type": "code",
      "source": [
        "from scipy.stats import norm\n",
        "\n",
        "x = np.linspace(-3, 3, 601)\n",
        "plt.plot(x, norm.pdf(x), 'r-');"
      ],
      "metadata": {
        "id": "iZHS6_SgA2UW"
      },
      "execution_count": null,
      "outputs": []
    },
    {
      "cell_type": "markdown",
      "source": [
        "* 正規乱数を1000個発生させて、相対頻度の分布を描いてみる。\n",
        "  * `density=True`とする。\n",
        "  * こうすると、ヒストグラムの下の面積が1になるように描いてくれる。\n",
        "  * 詳しくは https://matplotlib.org/stable/api/_as_gen/matplotlib.pyplot.hist.html"
      ],
      "metadata": {
        "id": "K8xKaf_G45lo"
      }
    },
    {
      "cell_type": "code",
      "source": [
        "r = norm.rvs(size=1000)\n",
        "plt.plot(x, norm.pdf(x), 'r-') # 上と同じ\n",
        "plt.hist(r, density=True, bins='auto', histtype='stepfilled', alpha=0.2);"
      ],
      "metadata": {
        "id": "KqyTdzgJCxA_"
      },
      "execution_count": null,
      "outputs": []
    },
    {
      "cell_type": "markdown",
      "source": [
        "* 問: 下の2つの値は、正規分布の、どういう値でしょうか？\n",
        "  * ヒント: ppf = percent point function"
      ],
      "metadata": {
        "id": "SgVYw9qVDsAI"
      }
    },
    {
      "cell_type": "code",
      "source": [
        "print(norm.ppf(0.01))\n",
        "print(norm.ppf(0.99))"
      ],
      "metadata": {
        "id": "2w1czROBC9bG"
      },
      "execution_count": null,
      "outputs": []
    },
    {
      "cell_type": "markdown",
      "source": [
        "* 標準正規分布でない正規分布の確率密度関数を描いてみる。\n",
        "  * 平均パラメータを0でない適当な値にする。\n",
        "  * 標準偏差パラメータも適当な値にする。"
      ],
      "metadata": {
        "id": "ziBW0TYQ5i6I"
      }
    },
    {
      "cell_type": "code",
      "source": [
        "# これは標準正規分布\n",
        "plt.plot(x, norm.pdf(x), 'r-')\n",
        "\n",
        "# こちらが標準正規分布でない正規分布\n",
        "loc, scale = 0.2, 0.5\n",
        "plt.plot(x, norm.pdf(x, loc=loc, scale=scale), 'b-');"
      ],
      "metadata": {
        "id": "8hnDE3dbDrd0"
      },
      "execution_count": null,
      "outputs": []
    },
    {
      "cell_type": "markdown",
      "source": [
        "* 標準正規分布でない正規分布に従う乱数を発生させる。"
      ],
      "metadata": {
        "id": "-56QCwN0e1Ux"
      }
    },
    {
      "cell_type": "code",
      "source": [
        "r = norm.rvs(size=1000, loc=loc, scale=scale)\n",
        "plt.plot(x, norm.pdf(x, loc=loc, scale=scale), 'b-')\n",
        "plt.hist(r, density=True, bins='auto', histtype='stepfilled', alpha=0.2);"
      ],
      "metadata": {
        "id": "HC784TTtEUWx"
      },
      "execution_count": null,
      "outputs": []
    },
    {
      "cell_type": "markdown",
      "source": [
        "* 正規乱数から、任意の正規分布に従う乱数を、作ることができる。\n",
        "  * 標準偏差を掛けて、平均を足せばよい。"
      ],
      "metadata": {
        "id": "pP0UTMRx6G4G"
      }
    },
    {
      "cell_type": "code",
      "source": [
        "r = rng.normal(size=1000) * scale + loc\n",
        "plt.plot(x, norm.pdf(x, loc=loc, scale=scale), 'b-')\n",
        "plt.hist(r, density=True, bins='auto', histtype='stepfilled', alpha=0.2);"
      ],
      "metadata": {
        "id": "LDdIjVjVEpKw"
      },
      "execution_count": null,
      "outputs": []
    },
    {
      "cell_type": "markdown",
      "source": [
        "## 二変量正規分布"
      ],
      "metadata": {
        "id": "OS2HafO_FkSS"
      }
    },
    {
      "cell_type": "markdown",
      "source": [
        "* 二変量なので、密度関数の高さを、平面上に等高線で可視化することにする。"
      ],
      "metadata": {
        "id": "TgfAs-U1fC81"
      }
    },
    {
      "cell_type": "markdown",
      "source": [
        "* 等高線図を描く準備\n",
        "  * xy平面にグリッドを設定する。"
      ],
      "metadata": {
        "id": "oyLFGy3vKiyl"
      }
    },
    {
      "cell_type": "code",
      "source": [
        "x = np.linspace(-3, 3, 601)\n",
        "y = np.linspace(-3, 3, 601)\n",
        "X, Y = np.meshgrid(x, y)\n",
        "pos = np.stack([X, Y], axis=2)"
      ],
      "metadata": {
        "id": "MkG5huAfGnlb"
      },
      "execution_count": null,
      "outputs": []
    },
    {
      "cell_type": "markdown",
      "source": [
        "* 二変量正規分布の等高線図"
      ],
      "metadata": {
        "id": "TykO6YbrKlzW"
      }
    },
    {
      "cell_type": "code",
      "source": [
        "from scipy.stats import multivariate_normal\n",
        "\n",
        "cov = [[1, 0.2], [0.2, 1]]\n",
        "ax = plt.subplot(1,1,1)\n",
        "ax.contourf(X, Y, multivariate_normal.pdf(pos, cov=cov))\n",
        "ax.set_aspect('equal');"
      ],
      "metadata": {
        "id": "bzNm4sntExeG"
      },
      "execution_count": null,
      "outputs": []
    },
    {
      "cell_type": "markdown",
      "source": [
        "* 二変量正規分布に従う「乱数」の散布図を描く。\n",
        "  * 二変量なので、「乱数」と言うより、「ランダムな二次元ベクトル」を発生させることになる。"
      ],
      "metadata": {
        "id": "pfpMS56WL7NJ"
      }
    },
    {
      "cell_type": "code",
      "source": [
        "r = multivariate_normal.rvs(size=3000, cov=cov, random_state=rng)\n",
        "ax = plt.subplot(1,1,1)\n",
        "ax.plot(r[:,0], r[:,1], 'o', alpha=0.1)\n",
        "ax.axis('equal');"
      ],
      "metadata": {
        "id": "HrFm3O85IU_l"
      },
      "execution_count": null,
      "outputs": []
    },
    {
      "cell_type": "markdown",
      "source": [
        "# 本日の課題\n",
        "* 適当に、二変量正規分布を設定する。\n",
        "  * つまり、平均ベクトルと、共分散行列を設定する。\n",
        "* まず、その二変量正規分布の確率密度関数の等高線を描く。\n",
        "  * 上の例を参考にしてください。\n",
        "* 次に、その二変量正規分布に従う乱数を1000個発生させる。\n",
        "* そして、サンプルの散布図を描画する。\n",
        "  * これも、上の例を参考にしてください。\n",
        "* ただし、`np.random.randn()`だけを使うこと。\n",
        "  * scipyの`multivariate_normal`は使わないこと。"
      ],
      "metadata": {
        "id": "TX0_3wdC6VUk"
      }
    },
    {
      "cell_type": "markdown",
      "source": [
        "## 課題のヒント\n",
        "* ヒント1: まず、正規乱数をたくさん発生させましょう。\n",
        "  * 何個の正規乱数が必要かは、考えましょう。\n",
        "* ヒント2: コレスキー分解を使いましょう。\n",
        "  * コレスキー分解は、以下のようにすると簡単に求まります。"
      ],
      "metadata": {
        "id": "RpwL6Vk77fnU"
      }
    },
    {
      "cell_type": "code",
      "source": [
        "cov = np.array([[1, 0.2], [0.2, 1]])\n",
        "cov_L = np.linalg.cholesky(cov)\n",
        "print(cov_L)\n",
        "print(cov_L @ cov_L.T)"
      ],
      "metadata": {
        "id": "y74htHONK_-_"
      },
      "execution_count": null,
      "outputs": []
    },
    {
      "cell_type": "code",
      "source": [],
      "metadata": {
        "id": "n28nWkWxg3iz"
      },
      "execution_count": null,
      "outputs": []
    }
  ]
}