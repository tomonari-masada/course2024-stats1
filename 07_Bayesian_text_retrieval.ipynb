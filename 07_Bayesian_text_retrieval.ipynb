{
  "nbformat": 4,
  "nbformat_minor": 0,
  "metadata": {
    "colab": {
      "provenance": [],
      "gpuType": "T4",
      "authorship_tag": "ABX9TyM3jSJxdBTjvq8+4AO2I2ES",
      "include_colab_link": true
    },
    "kernelspec": {
      "name": "python3",
      "display_name": "Python 3"
    },
    "language_info": {
      "name": "python"
    },
    "accelerator": "GPU"
  },
  "cells": [
    {
      "cell_type": "markdown",
      "metadata": {
        "id": "view-in-github",
        "colab_type": "text"
      },
      "source": [
        "<a href=\"https://colab.research.google.com/github/tomonari-masada/course2024-stats1/blob/main/07_Bayesian_text_retrieval.ipynb\" target=\"_parent\"><img src=\"https://colab.research.google.com/assets/colab-badge.svg\" alt=\"Open In Colab\"/></a>"
      ]
    },
    {
      "cell_type": "markdown",
      "source": [
        "# 多項分布を使ったテキスト検索\n",
        "* 以下の二つの方法を試す。\n",
        "\n",
        "1. MAP推定によって推定したパラメータを利用してクエリの確率を求める。\n",
        "\n",
        "2. 予測分布(predictive distribution)を利用してクエリの確率を求める。"
      ],
      "metadata": {
        "id": "ECnVmMCn7SqT"
      }
    },
    {
      "cell_type": "markdown",
      "source": [
        "**ランタイムのタイプをGPUにしておく**"
      ],
      "metadata": {
        "id": "YnIQekV2p3bU"
      }
    },
    {
      "cell_type": "markdown",
      "source": [
        "## 0. 準備"
      ],
      "metadata": {
        "id": "VrgoYRSB8LW6"
      }
    },
    {
      "cell_type": "markdown",
      "source": [
        "### インポート"
      ],
      "metadata": {
        "id": "ClYQyl5JXLuh"
      }
    },
    {
      "cell_type": "code",
      "source": [
        "import numpy as np\n",
        "from sklearn.datasets import fetch_20newsgroups\n",
        "from sklearn.feature_extraction.text import CountVectorizer"
      ],
      "metadata": {
        "id": "Gk0bNQ9Mp_vx"
      },
      "execution_count": null,
      "outputs": []
    },
    {
      "cell_type": "markdown",
      "source": [
        "### データセット"
      ],
      "metadata": {
        "id": "bJrqfKPu8Maq"
      }
    },
    {
      "cell_type": "markdown",
      "source": [
        "* 20 newsgroupデータセットを使う。\n",
        "  * 最も類似しているテキストが同じクラスに属するかで検索性能を評価する。\n",
        "  * （本当は、情報検索の評価専用のデータセットを使う方が良い。）"
      ],
      "metadata": {
        "id": "MJKZIv863h7c"
      }
    },
    {
      "cell_type": "code",
      "source": [
        "train_corpus, train_labels = fetch_20newsgroups(subset=\"train\", return_X_y=True)\n",
        "test_corpus, test_labels = fetch_20newsgroups(subset=\"test\", return_X_y=True)\n",
        "print(f\"training size: {len(train_corpus)}\\ntest size: {len(test_corpus)}\")"
      ],
      "metadata": {
        "id": "NzCwCI7IqB9v"
      },
      "execution_count": null,
      "outputs": []
    },
    {
      "cell_type": "markdown",
      "source": [
        "### 単語の出現回数を数える"
      ],
      "metadata": {
        "id": "ZJae3CD4rNX0"
      }
    },
    {
      "cell_type": "code",
      "source": [
        "vectorizer = CountVectorizer(min_df=10, stop_words=\"english\")\n",
        "X_train = vectorizer.fit_transform(train_corpus).toarray()\n",
        "X_test = vectorizer.transform(test_corpus).toarray()\n",
        "vocabulary = vectorizer.get_feature_names_out()\n",
        "print(f\"vocabulary size: {len(vocabulary)}\")"
      ],
      "metadata": {
        "id": "pvdC3n8zqFuJ"
      },
      "execution_count": null,
      "outputs": []
    },
    {
      "cell_type": "markdown",
      "source": [
        "## 1. MAP推定\n",
        "* 情報検索の世界では「スムージング」と呼ばれる手法に対応する。"
      ],
      "metadata": {
        "id": "AxV7fi2To5Px"
      }
    },
    {
      "cell_type": "markdown",
      "source": [
        "### クエリの確率\n",
        "* クエリの確率を、各文書について求めた単語確率を使って計算する。\n",
        "  * $c_{\\mathbf{x}_0,w}$: クエリ$\\mathbf{x}_0$における単語$w$の出現頻度\n",
        "* 検索対象の文書$\\mathbf{x}$の単語確率$\\boldsymbol{\\phi}_{\\mathbf{x}}$を使って、クエリ$\\mathbf{x}_0$の対数確率を表すと、以下のようになる。\n",
        "$$\\begin{align}\n",
        "\\log p(\\mathbf{x}_0 ; \\boldsymbol{\\phi}_{\\mathbf{x}}) = \\sum_w c_{\\mathbf{x}_0,w} \\log \\phi_{\\mathbf{x},w} + const.\n",
        "\\end{align}$$\n",
        "  * 上の式で、$\\mathbf{x}$に依存しない定数は省略して$const.$と書いている。（検索対象のテキストのランキングに関係しないため。）\n",
        "* $\\log p(\\mathbf{x}_0 ; \\boldsymbol{\\phi}_{\\mathbf{x}})$が大きい順に、テキスト$\\mathbf{x} \\in \\{ \\mathbf{x}_1, \\ldots, \\mathbf{x}_D\\}$を検索結果として表示する。\n"
      ],
      "metadata": {
        "id": "NAAjHXMVo2lO"
      }
    },
    {
      "cell_type": "markdown",
      "source": [
        "### 計算の工夫\n",
        "* $\\log p(\\mathbf{x}_0 ; \\boldsymbol{\\phi}_{\\mathbf{x}})$の計算は、単に、内積の計算をしているだけ。\n",
        "  * クエリの単語の出現回数$\\mathbf{c}_{\\mathbf{x}_0} \\equiv (c_{\\mathbf{x}_0,1}, \\ldots, c_{\\mathbf{x}_0,W})$と・・・\n",
        "  * 検索対象のテキストの単語確率の対数$\\log \\boldsymbol{\\phi}_{\\mathbf{x}} \\equiv (\\log \\phi_{\\mathbf{x},1}, \\ldots, \\log\\phi_{\\mathbf{x},W})$とで・・・\n",
        "  * 内積の計算$\\mathbf{c}_{\\mathbf{x}_0}^\\top \\log \\boldsymbol{\\phi}_{\\mathbf{x}}$をしているだけ。\n",
        "* ということは・・・\n",
        "* たくさんあるクエリについて、検索対象のテキストの各々で推定された単語確率で尤度を求めることは、行列の積として書ける。\n",
        "* 今回は、GPUも使って、高速化する。"
      ],
      "metadata": {
        "id": "hNdRqeDR5Hwk"
      }
    },
    {
      "cell_type": "markdown",
      "source": [
        "* 下のMAP推定では、ディリクレ事前分布のパラメータ$\\beta_w$がすべて$\\beta$に等しいとする。\n",
        "  * つまり、対称なディリクレ分布とする。"
      ],
      "metadata": {
        "id": "JqRxmPGeNRns"
      }
    },
    {
      "cell_type": "markdown",
      "source": [
        "* 検索対象のテキスト$\\mathbf{x}$についてMAP推定を使って得られる単語確率は・・・\n",
        "  * $l_{\\mathbf{x}} \\equiv \\sum_w c_{\\mathbf{x},w}$と定義すると・・・\n",
        "$$\n",
        "\\begin{align}\n",
        "{\\hat \\phi}_{\\mathbf{x}, w}\n",
        "& = \\frac{c_{\\mathbf{x},w} + \\beta_w - 1}{\\sum_w (c_{\\mathbf{x},w} + \\beta_w - 1)}\n",
        "\\notag \\\\\n",
        "& = \\frac{c_{\\mathbf{x},w} + \\beta - 1}{l_{\\mathbf{x}} + W\\beta - W} \\mbox{ （対称ディリクレ分布だと、こうなる。） }\n",
        "\\end{align}\n",
        "$$"
      ],
      "metadata": {
        "id": "VAlqN4WNNoPg"
      }
    },
    {
      "cell_type": "markdown",
      "source": [
        "* MAP推定の枠組みのなかでは・・・\n",
        "  * ディリクレ事前分布のパラメータ$\\beta_w$は1以上の値にする。\n",
        "  * そうでないと、出現していない単語の出現回数が負の値になってしまう。"
      ],
      "metadata": {
        "id": "DPqPBztBKHNd"
      }
    },
    {
      "cell_type": "code",
      "source": [
        "# 対称ディリクレ事前分布のパラメータ\n",
        "beta = 0.01 + 1.0\n",
        "\n",
        "X_train_smoothed = X_train + beta - 1.0\n",
        "X_train_probs = X_train_smoothed / X_train_smoothed.sum(axis=1).reshape(-1, 1)"
      ],
      "metadata": {
        "id": "1xKe491o5eje"
      },
      "execution_count": null,
      "outputs": []
    },
    {
      "cell_type": "markdown",
      "source": [
        "### クエリの対数尤度を計算するヘルパ関数\n",
        "* PyTorchを使って、GPU上で計算する。"
      ],
      "metadata": {
        "id": "-bxaiIDqq-zf"
      }
    },
    {
      "cell_type": "code",
      "source": [
        "import torch\n",
        "\n",
        "def log_likelihood(x_test, x_train_prob):\n",
        "  return torch.matmul(\n",
        "      torch.tensor(x_test, dtype=torch.float32, device=\"cuda\"),\n",
        "      torch.log(torch.tensor(x_train_prob, dtype=torch.float32, device=\"cuda\")).t()\n",
        "  ).cpu().numpy()"
      ],
      "metadata": {
        "id": "mrTNOUMu17fW"
      },
      "execution_count": null,
      "outputs": []
    },
    {
      "cell_type": "markdown",
      "source": [
        "### 検索の実行"
      ],
      "metadata": {
        "id": "CXa-pxljtZMX"
      }
    },
    {
      "cell_type": "markdown",
      "source": [
        "* 全てのクエリ（testテキスト）について、その確率を最大にする検索対象のテキスト（trainingテキスト）求める。\n",
        "  * もちろん、実際の情報検索では、一つ一つのクエリに個別に対応する。\n",
        "  * 下では、時間節約のため、まとめて計算している。"
      ],
      "metadata": {
        "id": "93qv9D1-t-Rs"
      }
    },
    {
      "cell_type": "code",
      "source": [
        "scores = log_likelihood(X_test, X_train_probs)"
      ],
      "metadata": {
        "id": "P-8knQc0qzRS"
      },
      "execution_count": null,
      "outputs": []
    },
    {
      "cell_type": "code",
      "source": [
        "sorted_train_indices = (- scores).argsort(-1)"
      ],
      "metadata": {
        "id": "orGJTgOSpXrI"
      },
      "execution_count": null,
      "outputs": []
    },
    {
      "cell_type": "code",
      "source": [
        "top_ranked_train_docs = sorted_train_indices[:,0].reshape(-1)\n",
        "print(top_ranked_train_docs)"
      ],
      "metadata": {
        "id": "05cXC360pf7n"
      },
      "execution_count": null,
      "outputs": []
    },
    {
      "cell_type": "markdown",
      "source": [
        "* P@1はprecision at oneの略。\n",
        "  * https://en.wikipedia.org/wiki/Evaluation_measures_(information_retrieval)#Precision_at_k"
      ],
      "metadata": {
        "id": "EFsEN7nNtAhB"
      }
    },
    {
      "cell_type": "code",
      "source": [
        "print(f\"P@1={(test_labels == train_labels[top_ranked_train_docs]).sum()/len(test_labels):.3f}\")"
      ],
      "metadata": {
        "id": "veu4K7svpngo"
      },
      "execution_count": null,
      "outputs": []
    },
    {
      "cell_type": "markdown",
      "source": [
        "* 最上位にランキングされた訓練文書がテスト文書と同じカテゴリになっている割合は、0.7ぐらい。"
      ],
      "metadata": {
        "id": "ilz8m-99vhbY"
      }
    },
    {
      "cell_type": "code",
      "source": [
        "top_k = 5\n",
        "precision = (\n",
        "    train_labels[sorted_train_indices[:,:top_k]]\n",
        "    == test_labels.reshape(-1, 1)\n",
        "    ).sum() / (len(test_labels) * top_k)\n",
        "print(f\"P@{top_k}={precision:.3f}\")"
      ],
      "metadata": {
        "id": "mEtgIIMdBVaG"
      },
      "execution_count": null,
      "outputs": []
    },
    {
      "cell_type": "markdown",
      "source": [
        "* あとは`beta`をチューニングして性能を出す。"
      ],
      "metadata": {
        "id": "4lsjrEqYb4sP"
      }
    },
    {
      "cell_type": "markdown",
      "source": [
        "* ディリクレ事前分布のパラメータの別の設定方法を下に示す。"
      ],
      "metadata": {
        "id": "kSeQQvZFNuwI"
      }
    },
    {
      "cell_type": "code",
      "source": [
        "# コーパス全体を使って、単語確率を最尤推定する。\n",
        "word_popularity = X_train.sum(0)\n",
        "global_word_prob = word_popularity / word_popularity.sum()\n",
        "\n",
        "# ディリクレ事前分布のパラメータから1を引いたものを、\n",
        "# その和が語彙サイズのcoef倍になるように決める。\n",
        "coef = 0.1\n",
        "vocab_size = X_train.shape[-1]\n",
        "beta = global_word_prob * coef * vocab_size + 1.0\n",
        "\n",
        "X_train_smoothed = X_train + beta - 1.0\n",
        "X_train_probs = X_train_smoothed / X_train_smoothed.sum(axis=1).reshape(-1, 1)"
      ],
      "metadata": {
        "id": "6mkGXYLVLtWR"
      },
      "execution_count": null,
      "outputs": []
    },
    {
      "cell_type": "code",
      "source": [
        "scores = log_likelihood(X_test, X_train_probs)\n",
        "sorted_train_indices = (- scores).argsort(-1)\n",
        "top_ranked_train_docs = sorted_train_indices[:,0].reshape(-1)\n",
        "print(f\"P@1={(test_labels == train_labels[top_ranked_train_docs]).sum()/len(test_labels):.3f}\")"
      ],
      "metadata": {
        "id": "WaSOGvLqM8w1"
      },
      "execution_count": null,
      "outputs": []
    },
    {
      "cell_type": "markdown",
      "source": [
        "## 2. ベイズ推測\n",
        "* 予測分布（＝ディリクレ多項分布）を利用してクエリの予測確率を求める。"
      ],
      "metadata": {
        "id": "oFeO_566K-my"
      }
    },
    {
      "cell_type": "markdown",
      "source": [
        "### クエリの予測確率\n",
        "* 下の式の$\\mathbf{x}$のところに検索対象のテキストを代入して、クエリ$\\mathbf{x}_0$の予測確率を計算する。\n",
        "  * $c_{\\mathbf{x},w}$は検索対象のテキストにおける単語$w$の出現回数を表す。\n",
        "  * $c_{\\mathbf{x}_0,w}$はクエリにおける単語$w$の出現回数を表す。"
      ],
      "metadata": {
        "id": "ZbF0UVJmcOeO"
      }
    },
    {
      "cell_type": "markdown",
      "source": [
        "$$\n",
        "p(\\mathbf{x}_0|\\mathbf{x};\\mathbf{\\beta})\n",
        "= \\frac{n_0! \\Gamma(\\sum_{w=1}^W (c_{\\mathbf{x},w} + \\beta_w))}{\\Gamma( \\sum_{w=1}^W (c_{\\mathbf{x},w} + c_{\\mathbf{x}_0,w} + \\beta_w) )}\n",
        "\\prod_{w=1}^W\n",
        "\\frac{\\Gamma(c_{\\mathbf{x},w} + c_{\\mathbf{x}_0,w}+\\beta_w)}{c_{\\mathbf{x}_0,w}!\\Gamma(c_{\\mathbf{x},w} + \\beta_w)}\n",
        "$$"
      ],
      "metadata": {
        "id": "HxvdGLKALA80"
      }
    },
    {
      "cell_type": "markdown",
      "source": [
        "* 上の式で、$\\mathbf{x}_0$がクエリに相当する。\n",
        "  * よって、$\\mathbf{x}_0$だけに依存する項は、検索対象のテキストのランク付けには無関係。\n",
        "* 簡単のため、ディリクレ事前分布は対称ディリクレ分布だと仮定する。\n",
        "  * つまり、すべての$w$について$\\beta_w = \\beta$と、同じ値$\\beta$を取ると仮定する。"
      ],
      "metadata": {
        "id": "ISVwq0j5LkM9"
      }
    },
    {
      "cell_type": "markdown",
      "source": [
        "* 以上を踏まえて、テキスト$\\mathbf{x}$を使って算出されるクエリ$\\mathbf{x}_0$の対数予測確率を書き下す。\n",
        "  * テキスト$\\mathbf{x}$の長さを$l_{\\mathbf{x}}$と書くことにする。"
      ],
      "metadata": {
        "id": "0kq2wNifMnQQ"
      }
    },
    {
      "cell_type": "markdown",
      "source": [
        "* 観測データ$\\mathbf{x}$が与えられている条件下でのクエリ$\\mathbf{x}_0$の予測確率は、以下のように書ける。\n",
        "$$\n",
        "\\begin{align}\n",
        "\\ln p(\\mathbf{x}_0|\\mathbf{x}_i;\\mathbf{\\beta})\n",
        "\\ = \\ & \\ln \\Gamma(l_\\mathbf{x} + W\\beta) - \\ln \\Gamma( l_\\mathbf{x} + l_{\\mathbf{x}_0} + W \\beta )\n",
        "\\notag \\\\ &\n",
        "+ \\sum_{w=1}^W \\big(\n",
        "\\ln \\Gamma(c_{\\mathbf{x}, w}+c_{\\mathbf{x}_0,w}+\\beta) - \\ln \\Gamma(c_{\\mathbf{x}, w} + \\beta) \\big) + const.\n",
        "\\end{align}\n",
        "$$"
      ],
      "metadata": {
        "id": "YRwSFh9nL2BH"
      }
    },
    {
      "cell_type": "code",
      "source": [
        "import torch\n",
        "\n",
        "X_train_cuda = torch.tensor(X_train, dtype=torch.float32, device=\"cuda\")\n",
        "train_len = X_train_cuda.sum(-1)\n",
        "X_test_cuda = torch.tensor(X_test, dtype=torch.float32, device=\"cuda\")\n",
        "test_len = X_test_cuda.sum(-1)"
      ],
      "metadata": {
        "id": "xn5GdTAcP2kU"
      },
      "execution_count": null,
      "outputs": []
    },
    {
      "cell_type": "markdown",
      "source": [
        "* 定数の設定"
      ],
      "metadata": {
        "id": "zFdain5oT9ea"
      }
    },
    {
      "cell_type": "code",
      "source": [
        "beta = 0.001 #対称ディリクレ事前分布のパラメータ\n",
        "vocab_size = X_train.shape[-1]"
      ],
      "metadata": {
        "id": "kk3tsO1TQq_a"
      },
      "execution_count": null,
      "outputs": []
    },
    {
      "cell_type": "markdown",
      "source": [
        "* $\\ln \\Gamma(l_\\mathbf{x} + W\\beta)$を計算する。"
      ],
      "metadata": {
        "id": "rV27by0fTRxs"
      }
    },
    {
      "cell_type": "code",
      "source": [
        "train_lgamma_all = torch.lgamma(train_len + vocab_size * beta)"
      ],
      "metadata": {
        "id": "T7zZ-nNsTTl4"
      },
      "execution_count": null,
      "outputs": []
    },
    {
      "cell_type": "markdown",
      "source": [
        "* $l_\\mathbf{x} + l_{\\mathbf{x}_0}$をブロードキャストで計算する。\n",
        "  * 検索対象のテキストとテスト用テキスト（クエリとして使用）の\n",
        "  * すべての組み合わせについて\n",
        "  * 二つのテキストの長さの和を求める。"
      ],
      "metadata": {
        "id": "ftmR-9gwTjez"
      }
    },
    {
      "cell_type": "code",
      "source": [
        "test_train_len = train_len + test_len.unsqueeze(1)"
      ],
      "metadata": {
        "id": "nFi-w3AZR38P"
      },
      "execution_count": null,
      "outputs": []
    },
    {
      "cell_type": "markdown",
      "source": [
        "* $\\ln \\Gamma( l_\\mathbf{x} + l_{\\mathbf{x}_0} + W \\beta )$を計算する。"
      ],
      "metadata": {
        "id": "vuqv4xQjTLtD"
      }
    },
    {
      "cell_type": "code",
      "source": [
        "lgamma_len = torch.lgamma(test_train_len + vocab_size * beta)"
      ],
      "metadata": {
        "id": "-pK-6YiaTAa-"
      },
      "execution_count": null,
      "outputs": []
    },
    {
      "cell_type": "code",
      "source": [
        "lgamma_len.shape"
      ],
      "metadata": {
        "id": "gT09zsGtWZIX"
      },
      "execution_count": null,
      "outputs": []
    },
    {
      "cell_type": "markdown",
      "source": [
        "* $\\ln \\Gamma(c_{\\mathbf{x}, w} + \\beta)$を計算する。"
      ],
      "metadata": {
        "id": "EQUlEQeDTdSH"
      }
    },
    {
      "cell_type": "code",
      "source": [
        "train_lgamma_word = torch.lgamma(X_train_cuda + beta)"
      ],
      "metadata": {
        "id": "zvJbkxw1TfQs"
      },
      "execution_count": null,
      "outputs": []
    },
    {
      "cell_type": "markdown",
      "source": [
        "* $\\ln \\Gamma(l_\\mathbf{x} + W\\beta) - \\sum_{w=1}^W \\ln \\Gamma(c_{\\mathbf{x}, w} + \\beta)$を計算する。"
      ],
      "metadata": {
        "id": "xRa_GgVdUhxV"
      }
    },
    {
      "cell_type": "code",
      "source": [
        "train_lgamma = train_lgamma_all - train_lgamma_word.sum(-1)"
      ],
      "metadata": {
        "id": "jN2Ev2dnQc3z"
      },
      "execution_count": null,
      "outputs": []
    },
    {
      "cell_type": "code",
      "source": [
        "train_lgamma.shape"
      ],
      "metadata": {
        "id": "UN4EK2_1Q7xq"
      },
      "execution_count": null,
      "outputs": []
    },
    {
      "cell_type": "markdown",
      "source": [
        "* テスト用のテキストを一つ一つクエリとして使うのでは、計算が遅いので・・・\n",
        "* ミニバッチ方式で計算することにする。\n",
        "  * もちろん、実際の情報検索では、一つ一つのクエリに個別に対応する。"
      ],
      "metadata": {
        "id": "TJj0t0noVapH"
      }
    },
    {
      "cell_type": "code",
      "source": [
        "def log_pred_prob(idx1, idx2):\n",
        "  X_sum = X_train_cuda + X_test_cuda[idx1:idx2].unsqueeze(1) + beta\n",
        "  log_prob = train_lgamma.reshape(1, -1) - lgamma_len[idx1:idx2]\n",
        "  log_prob = log_prob + torch.lgamma(X_sum).sum(-1)\n",
        "  return log_prob"
      ],
      "metadata": {
        "id": "WmlsAx41OdNF"
      },
      "execution_count": null,
      "outputs": []
    },
    {
      "cell_type": "markdown",
      "source": [
        "* top 1のprecisionを調べる。"
      ],
      "metadata": {
        "id": "OlBK2kYHOPTv"
      }
    },
    {
      "cell_type": "code",
      "source": [
        "from tqdm import tqdm\n",
        "\n",
        "BATCH_SIZE = 4\n",
        "n_correct_answers = 0\n",
        "for idx in tqdm(range(0, X_test.shape[0], BATCH_SIZE)):\n",
        "  sorted_train_indices = (- log_pred_prob(idx, idx+BATCH_SIZE)).argsort(-1)\n",
        "  top_ranked_train_docs = sorted_train_indices[:,0].reshape(-1)\n",
        "  n_correct_answers += (\n",
        "      test_labels[idx:idx+BATCH_SIZE] == train_labels[top_ranked_train_docs.cpu()]\n",
        "      ).sum()"
      ],
      "metadata": {
        "id": "AV5jYI0jWokA"
      },
      "execution_count": null,
      "outputs": []
    },
    {
      "cell_type": "code",
      "source": [
        "print(f\"P@1={n_correct_answers / len(test_labels):.3f}\")"
      ],
      "metadata": {
        "id": "qatQw9bPbjT8"
      },
      "execution_count": null,
      "outputs": []
    },
    {
      "cell_type": "markdown",
      "source": [
        "* top kのprecisionを調べる。"
      ],
      "metadata": {
        "id": "KDCLcWtMOSIR"
      }
    },
    {
      "cell_type": "code",
      "source": [
        "from tqdm import tqdm\n",
        "\n",
        "BATCH_SIZE = 4\n",
        "top_k = 5\n",
        "\n",
        "n_correct_answers = 0\n",
        "for idx in tqdm(range(0, X_test.shape[0], BATCH_SIZE)):\n",
        "  sorted_train_indices = (- log_pred_prob(idx, idx+BATCH_SIZE)).argsort(-1)\n",
        "  n_correct_answers += (\n",
        "      train_labels[sorted_train_indices[:,:top_k].cpu()]\n",
        "      == test_labels[idx:idx+BATCH_SIZE].reshape(-1, 1)\n",
        "      ).sum()\n",
        "print(f\"P@{top_k}={n_correct_answers / (len(test_labels) * top_k):.3f}\")"
      ],
      "metadata": {
        "id": "RRSAD60xDBrw"
      },
      "execution_count": null,
      "outputs": []
    },
    {
      "cell_type": "markdown",
      "source": [
        "* あとは`beta`をチューニングする。"
      ],
      "metadata": {
        "id": "ze90ZcqjbvKj"
      }
    },
    {
      "cell_type": "code",
      "source": [],
      "metadata": {
        "id": "2XBAfmWobtN8"
      },
      "execution_count": null,
      "outputs": []
    }
  ]
}